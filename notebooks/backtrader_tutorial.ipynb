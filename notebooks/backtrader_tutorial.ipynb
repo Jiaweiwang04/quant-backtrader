{
 "cells": [
  {
   "cell_type": "markdown",
   "id": "23a73348",
   "metadata": {},
   "source": [
    "#  Backtrader Tutorial: SMA Strategy\n",
    "\n",
    "This notebook demonstrates how to use the Backtrader framework to implement a simple Simple Moving Average (SMA) strategy, perform a backtest, and visualize the results."
   ]
  },
  {
   "cell_type": "code",
   "execution_count": 1,
   "id": "fa07b03a",
   "metadata": {},
   "outputs": [
    {
     "ename": "ModuleNotFoundError",
     "evalue": "No module named 'backtrader'",
     "output_type": "error",
     "traceback": [
      "\u001b[31m---------------------------------------------------------------------------\u001b[39m",
      "\u001b[31mModuleNotFoundError\u001b[39m                       Traceback (most recent call last)",
      "\u001b[36mCell\u001b[39m\u001b[36m \u001b[39m\u001b[32mIn[1]\u001b[39m\u001b[32m, line 1\u001b[39m\n\u001b[32m----> \u001b[39m\u001b[32m1\u001b[39m \u001b[38;5;28;01mimport\u001b[39;00m\u001b[38;5;250m \u001b[39m\u001b[34;01mbacktrader\u001b[39;00m\u001b[38;5;250m \u001b[39m\u001b[38;5;28;01mas\u001b[39;00m\u001b[38;5;250m \u001b[39m\u001b[34;01mbt\u001b[39;00m\n\u001b[32m      2\u001b[39m \u001b[38;5;28;01mimport\u001b[39;00m\u001b[38;5;250m \u001b[39m\u001b[34;01mpandas\u001b[39;00m\u001b[38;5;250m \u001b[39m\u001b[38;5;28;01mas\u001b[39;00m\u001b[38;5;250m \u001b[39m\u001b[34;01mpd\u001b[39;00m\n\u001b[32m      3\u001b[39m \u001b[38;5;28;01mimport\u001b[39;00m\u001b[38;5;250m \u001b[39m\u001b[34;01mmatplotlib\u001b[39;00m\u001b[34;01m.\u001b[39;00m\u001b[34;01mpyplot\u001b[39;00m\u001b[38;5;250m \u001b[39m\u001b[38;5;28;01mas\u001b[39;00m\u001b[38;5;250m \u001b[39m\u001b[34;01mplt\u001b[39;00m\n",
      "\u001b[31mModuleNotFoundError\u001b[39m: No module named 'backtrader'"
     ]
    }
   ],
   "source": [
    "import backtrader as bt\n",
    "import pandas as pd\n",
    "import matplotlib.pyplot as plt"
   ]
  },
  {
   "cell_type": "markdown",
   "id": "ac71d88d",
   "metadata": {},
   "source": [
    "##  Define the Strategy Class\n",
    "\n",
    "We create a strategy class `SmaStrategy` that inherits from `bt.Strategy`. The logic is as follows:\n",
    "\n",
    "- If the current close price is above the 15-day simple moving average and we are not in a position, buy.\n",
    "- If the current close price is below the 15-day moving average and we hold a position, close it."
   ]
  },
  {
   "cell_type": "code",
   "execution_count": null,
   "id": "097fd4bb",
   "metadata": {},
   "outputs": [],
   "source": [
    "class SmaStrategy(bt.Strategy):\n",
    "    def __init__(self):\n",
    "        self.sma = bt.indicators.SimpleMovingAverage(self.data, period=15)\n",
    "\n",
    "    def next(self):\n",
    "        if self.data.close[0] > self.sma[0]:\n",
    "            if not self.position:\n",
    "                self.buy()\n",
    "        elif self.data.close[0] < self.sma[0]:\n",
    "            if self.position:\n",
    "                self.close()"
   ]
  },
  {
   "cell_type": "markdown",
   "id": "d4cecce3",
   "metadata": {},
   "source": [
    "##  Load the Data\n",
    "\n",
    "We use Pandas to load a sample CSV file `sample_data.csv` and convert it into a format that Backtrader can understand using `bt.feeds.PandasData`."
   ]
  },
  {
   "cell_type": "code",
   "execution_count": null,
   "id": "37a30bae",
   "metadata": {},
   "outputs": [],
   "source": [
    "data = pd.read_csv('../data/sample_data.csv', index_col='Date', parse_dates=True)\n",
    "bt_data = bt.feeds.PandasData(dataname=data)"
   ]
  },
  {
   "cell_type": "markdown",
   "id": "f9371c39",
   "metadata": {},
   "source": [
    "##  Configure the Backtest Engine\n",
    "\n",
    "We use Backtrader's core engine `Cerebro` to manage strategy combinations, set initial cash, and load the data."
   ]
  },
  {
   "cell_type": "code",
   "execution_count": null,
   "id": "91b1e38c",
   "metadata": {},
   "outputs": [],
   "source": [
    "cerebro = bt.Cerebro()\n",
    "cerebro.addstrategy(SmaStrategy)\n",
    "cerebro.adddata(bt_data)\n",
    "cerebro.broker.set_cash(10000)\n",
    "cerebro.addobserver(bt.observers.Value)"
   ]
  },
  {
   "cell_type": "markdown",
   "id": "1000ea0e",
   "metadata": {},
   "source": [
    "##  Run the Backtest and Plot Results\n",
    "\n",
    "Execute the strategy, print starting and ending portfolio values, and visualize the trading signals and portfolio value over time."
   ]
  },
  {
   "cell_type": "code",
   "execution_count": null,
   "id": "2d96cb56",
   "metadata": {},
   "outputs": [],
   "source": [
    "print(\"Starting Portfolio Value: %.2f\" % cerebro.broker.getvalue())\n",
    "cerebro.run()\n",
    "print(\"Final Portfolio Value: %.2f\" % cerebro.broker.getvalue())\n",
    "\n",
    "cerebro.plot()"
   ]
  }
 ],
 "metadata": {
  "kernelspec": {
   "display_name": "quant",
   "language": "python",
   "name": "python3"
  },
  "language_info": {
   "codemirror_mode": {
    "name": "ipython",
    "version": 3
   },
   "file_extension": ".py",
   "mimetype": "text/x-python",
   "name": "python",
   "nbconvert_exporter": "python",
   "pygments_lexer": "ipython3",
   "version": "3.11.11"
  }
 },
 "nbformat": 4,
 "nbformat_minor": 5
}
